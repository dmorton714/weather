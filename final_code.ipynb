{
 "cells": [
  {
   "attachments": {},
   "cell_type": "markdown",
   "metadata": {},
   "source": [
    "<h1>Global Warming in Louisville KY <h2>\n",
    "<img alt=\"Global Warming Image title=\"Sick Earth\" src=\"images/global warming.png\"/>"
   ]
  },
  {
   "attachments": {},
   "cell_type": "markdown",
   "metadata": {},
   "source": [
    "This cell imports packages needed to run the below code."
   ]
  },
  {
   "cell_type": "code",
   "execution_count": 86,
   "metadata": {},
   "outputs": [],
   "source": [
    "import pandas as pd\n",
    "import matplotlib.pyplot as plt\n",
    "import matplotlib.dates as mdates\n",
    "import datetime\n",
    "import csv\n",
    "import numpy as np"
   ]
  },
  {
   "attachments": {},
   "cell_type": "markdown",
   "metadata": {},
   "source": [
    " \n",
    "<h2> 1. Read data in.</h2>\n",
    "The below cell Reads in a csv file.\n",
    "<br> \n",
    "I then printed the header row and number of rows in the csv file. "
   ]
  },
  {
   "cell_type": "code",
   "execution_count": 87,
   "metadata": {},
   "outputs": [
    {
     "name": "stdout",
     "output_type": "stream",
     "text": [
      "This is the imported data.csv header \n",
      " ['STATION ID', 'STATION NAME', 'DATE', 'DAILY AVG TEMP (DEG F)', 'DAILY MAX TEMP (DEG F)', 'DAILY MIN TEMP (DEG F)', 'DAILY PRECIPITATION TOTAL (INCHES)']\n",
      "This is the total number of rows in the file: 27184\n"
     ]
    }
   ],
   "source": [
    "df = pd.read_csv (r'data.csv')\n",
    "filename = 'data.csv'\n",
    "with open('data.csv') as f:\n",
    "    reader = csv.reader(f)\n",
    "    header_row = next(reader)\n",
    "#To display the headers of the csv file and verify it imported correctly.\n",
    "print(\"This is the imported data.csv header\", '\\n' , header_row)\n",
    "# Displays the total rows in the csv file\n",
    "print(\"This is the total number of rows in the file:\", len(df))"
   ]
  },
  {
   "attachments": {},
   "cell_type": "markdown",
   "metadata": {},
   "source": [
    "<h2> 2. Manipulate and clean your data.  </h2>\n",
    "<br>\n",
    "The first block of code calculates some basic stats on the daily weather. \n",
    "The second chunk of code removes NaN values in the DAILY PRECIPITATION TOTAL (INCHES) column and replaces them with 0's. \n",
    "The last section made a new column to show true or false vales, if the max temp value has been recorded more than once. "
   ]
  },
  {
   "cell_type": "code",
   "execution_count": 88,
   "metadata": {},
   "outputs": [
    {
     "name": "stdout",
     "output_type": "stream",
     "text": [
      "The Max Temp (F) between 1948 to 2022 is : 106.0\n",
      "The lowest Max Temp (F) between 1948 to 2022 is : 1.0\n",
      "The lowest Temp (F) between 1948 to 2022 is : -22.0\n",
      "The highest, low Temp (F) between 1948 to 2022 is : 83.0\n",
      "This is the average precipitation in inches: 0.12537516099356344\n",
      "This is the highest precipitation in inches in a day: 7.22\n"
     ]
    },
    {
     "data": {
      "text/plain": [
       "27078"
      ]
     },
     "execution_count": 88,
     "metadata": {},
     "output_type": "execute_result"
    }
   ],
   "source": [
    "print(\"The Max Temp (F) between 1948 to 2022 is :\", df['DAILY MAX TEMP (DEG F)'].max())\n",
    "print(\"The lowest Max Temp (F) between 1948 to 2022 is :\", df['DAILY MAX TEMP (DEG F)'].min())\n",
    "print(\"The lowest Temp (F) between 1948 to 2022 is :\", df['DAILY MIN TEMP (DEG F)'].min())\n",
    "print(\"The highest, low Temp (F) between 1948 to 2022 is :\", df['DAILY MIN TEMP (DEG F)'].max())\n",
    "print(\"This is the average precipitation in inches:\", df['DAILY PRECIPITATION TOTAL (INCHES)'].mean())\n",
    "print(\"This is the highest precipitation in inches in a day:\", df['DAILY PRECIPITATION TOTAL (INCHES)'].max())\n",
    "\n",
    "# This replaces the Nan values to 0 \n",
    "df['DAILY PRECIPITATION TOTAL (INCHES)'] = df['DAILY PRECIPITATION TOTAL (INCHES)'].fillna(0)\n",
    "# print(\"This removed the NaN values in the Perc Column.\", '\\n', df.head(10))\n",
    "\n",
    "#This shows the duplicates in the max temp as true or false in a new column \n",
    "df['Max temps duplicated'] = df.duplicated('DAILY MAX TEMP (DEG F)')\n",
    "df['Max temps duplicated'].sum()\n",
    "# print(df.head(9))"
   ]
  },
  {
   "attachments": {},
   "cell_type": "markdown",
   "metadata": {},
   "source": [
    "<h2>3. Analyze your data! </h2>\n",
    "<br>\n",
    "I split up the data.csv sheet into months to learn how to import and work with several data sets.  \n",
    "<br><br>\n",
    "First section of code assigns a month to the sheet on import. This was done to save space and combine functions. \n",
    "<br><br>\n",
    "I then made a list of the months, being the imports from above. This makes it easier to call from later. \n",
    "<br><br>\n",
    "Next I have a dictionary that will be my values for the graph in the end. The list names are the column headers which is problimatic on the graph later for readability. Ideally The column headers would have been 50's, 60's ect\n",
    "<br><br>\n",
    "The next section is another for loop. It goes sheet to sheet ane obtains the avereages from each decade for the ys.It then appends, averages, and rounds them to the second decimal places. \n",
    "<br> <br>\n",
    "The final loop prints the vales for the \"Ys\" dictionary, which are I copied and updated the dictionary values so that it would read easier. "
   ]
  },
  {
   "cell_type": "code",
   "execution_count": 89,
   "metadata": {},
   "outputs": [
    {
     "name": "stdout",
     "output_type": "stream",
     "text": [
      "For Decade:  fifties  Values:  [35.85, 38.9, 44.57, 56.72, 66.6, 75.04, 78.68, 77.02, 70.17, 58.46, 44.39, 37.39]\n",
      "For Decade:  sixties  Values:  [32.02, 34.31, 43.83, 56.62, 64.86, 72.87, 76.62, 75.35, 68.44, 57.36, 45.91, 34.76]\n",
      "For Decade:  seventies  Values:  [30.4, 35.35, 46.96, 56.69, 65.15, 73.58, 77.03, 76.2, 70.3, 57.58, 46.97, 38.57]\n",
      "For Decade:  eighties  Values:  [32.2, 36.29, 46.24, 56.17, 65.92, 74.29, 78.94, 77.18, 69.91, 57.82, 47.89, 36.17]\n",
      "For Decade:  nineties  Values:  [35.9, 40.27, 46.88, 56.81, 66.43, 75.02, 79.24, 77.18, 69.99, 59.19, 47.49, 39.39]\n",
      "For Decade:  twok  Values:  [35.6, 38.52, 48.38, 58.92, 67.16, 75.57, 78.15, 78.89, 71.37, 59.5, 49.13, 37.58]\n",
      "For Decade:  twenty ten  Values:  [34.45, 38.98, 48.49, 60.2, 69.99, 77.44, 80.58, 79.05, 73.21, 60.96, 47.56, 40.97]\n"
     ]
    }
   ],
   "source": [
    "# imports the data sets and assigns them to month\n",
    "jan = pd.read_csv (r'./months_csv/jan.csv')\n",
    "feb = pd.read_csv (r'./months_csv/feb.csv')\n",
    "March = pd.read_csv (r'./months_csv/March.csv')\n",
    "april = pd.read_csv (r'./months_csv/april.csv')\n",
    "may = pd.read_csv (r'./months_csv/may.csv')\n",
    "june = pd.read_csv (r'./months_csv/june.csv')\n",
    "july = pd.read_csv (r'./months_csv/july.csv')\n",
    "aug = pd.read_csv (r'./months_csv/aug.csv')\n",
    "sept = pd.read_csv (r'./months_csv/sept.csv')\n",
    "oct = pd.read_csv (r'./months_csv/oct.csv')\n",
    "nov = pd.read_csv (r'./months_csv/nov.csv')\n",
    "dec = pd.read_csv (r'./months_csv/dec.csv')\n",
    "\n",
    "\n",
    "months = [jan, feb, March, april, may, june, july, aug, sept, oct, nov, dec]\n",
    "\n",
    "ys = {\n",
    "    'fifties': [], \n",
    "    'sixties': [],\n",
    "    'seventies': [],\n",
    "    'eighties': [],\n",
    "    'nineties': [],\n",
    "    'twok': [],\n",
    "    'twenty ten': [],\n",
    "    }\n",
    "\n",
    "for month in months:\n",
    "    for decade in ys:\n",
    "        ys[decade].append(round(month[decade].mean(), 2))\n",
    "\n",
    "# x axis values \n",
    "# x = [\"Jan\", \"Feb\", \"Mar\", \"Apr\", \"May\", \"Jun\", \"Jul\", \"Aug\", \"Sept\", \"Oct\", \"Nov\", \"Dec\", ]\n",
    " \n",
    "# # plotting the points  \n",
    "for y in ys:\n",
    "#   plt.plot(x, ys[y], label=y)\n",
    "  print('For Decade: ', y, \" Values: \", ys[y])\n",
    "\n",
    "# plt.legend()\n",
    "\n",
    "    \n",
    "# # naming the x axis \n",
    "# plt.xlabel('Months')\n",
    "\n",
    "# # naming the y axis \n",
    "# plt.ylabel('Temperature') \n",
    "   \n",
    "# # giving a title to my graph \n",
    "# plt.title('Average Temputures by Decade') \n",
    "    \n",
    "# # function to show the plot \n",
    "# plt.show() \n"
   ]
  },
  {
   "attachments": {},
   "cell_type": "markdown",
   "metadata": {},
   "source": [
    "<h2> 4. Visualize your data. </h2>\n",
    "<br>\n",
    "The final plot to show the change over time is below. Followed by the coldest and hottest months to show the difference. This also completed the 2 part visual requirement."
   ]
  },
  {
   "cell_type": "code",
   "execution_count": 90,
   "metadata": {},
   "outputs": [
    {
     "data": {
      "image/png": "[encoded data removed]",
      "text/plain": [
       "<Figure size 432x288 with 1 Axes>"
      ]
     },
     "metadata": {
      "needs_background": "light"
     },
     "output_type": "display_data"
    }
   ],
   "source": [
    "# x axis values \n",
    "x = [\"Jan\", \"Feb\", \"Mar\", \"Apr\", \"May\", \"Jun\", \"Jul\", \"Aug\", \"Sept\", \"Oct\", \"Nov\", \"Dec\", ]\n",
    "\n",
    "# corresponding y axis values \n",
    "ys = {\n",
    "  \"50s\": [35.85,  38.90, 44.57, 56.72, 66.60, 75.04, 78.68, 77.02, 70.17, 58.46, 44.39, 37.39],\n",
    "  \"60s\": [34.45, 34.31, 43.83, 56.62, 64.86, 72.87, 76.62, 75.35, 68.44, 57.36, 45.91, 34.76],\n",
    "  \"70s\": [30.4, 35.35, 46.96, 56.69, 65.15, 73.58, 77.03, 76.20, 70.30, 57.58, 46.97, 38.57],\n",
    "  \"80s\": [32.2, 36.29, 46.24, 56.16, 65.92, 74.29, 78.94, 77.18, 69.91, 57.82, 47.89, 36.17],\n",
    "  \"90s\": [35.9, 40.27, 46.88, 56.81, 66.43, 75.02, 79.24, 77.18, 69.99, 59.19, 47.49, 39.39],\n",
    "  \"00s\": [35.6, 38.52, 48.38, 58.92, 67.16, 75.57, 78.15, 78.89, 71.37, 59.50, 49.13, 37.58],\n",
    "  \"10s\": [34.45, 38.98, 48.49, 60.2, 69.99, 77.44, 80.58, 79.05, 73.21, 60.96, 47.56, 40.97],\n",
    "} \n",
    " \n",
    "# plotting the points  \n",
    "for y in ys:\n",
    "  plt.plot(x, ys[y], label=y)\n",
    "  # print('For Decade: ', y, \"   Values: \", ys[y])\n",
    "\n",
    "# plt.plot(x, y[\"five\"], \"\", label=\"50s\")\n",
    "# plt.plot(x, y[\"six\"], \"\", label=\"60s\")\n",
    "# plt.plot(x, y[\"seven\"], \"\", label=\"70s\",)\n",
    "# plt.plot(x, y[\"eight\"], \"\", label=\"80s\",)\n",
    "# plt.plot(x, y[\"nine\"], \"\", label=\"90s\",)\n",
    "# plt.plot(x, y[\"twok\"], \"\", label=\"00s\",)\n",
    "# plt.plot(x, y[\"ten\"], \"\", label=\"10s\",)\n",
    "\n",
    "\n",
    "plt.legend()\n",
    "\n",
    "    \n",
    "# naming the x axis \n",
    "plt.xlabel('Months')\n",
    "\n",
    "# naming the y axis \n",
    "plt.ylabel('Temperature') \n",
    "   \n",
    "# giving a title to my graph \n",
    "plt.title('Average Temputures by Decade') \n",
    "    \n",
    "# function to show the plot \n",
    "plt.savefig(\"images/avgtemp_graph.jpg\", bbox_inches=\"tight\")\n",
    "plt.show() \n",
    "\n"
   ]
  },
  {
   "cell_type": "code",
   "execution_count": 91,
   "metadata": {},
   "outputs": [
    {
     "data": {
      "image/png": "[encoded data removed]",
      "text/plain": [
       "<Figure size 432x288 with 1 Axes>"
      ]
     },
     "metadata": {
      "needs_background": "light"
     },
     "output_type": "display_data"
    }
   ],
   "source": [
    "# graph showing the hottest and coldest months of the year\n",
    "\n",
    "# x axis values \n",
    "x = [\"50's\",\"60's\", \"70's\", \"80's\", \"90's\", \"00's\", \"10's\"] \n",
    "\n",
    "# corresponding y axis values \n",
    "ys = {\n",
    "    \"Jan\" : [35.85, 32.02, 30.40, 32.20, 35.90, 35.60, 34.45],\n",
    "    \"July\" : [78.68, 76.62, 77.03, 78.94, 79.24, 78.15, 80.58],\n",
    "} \n",
    " \n",
    "\n",
    "for y in ys:\n",
    "  plt.plot(x, ys[y], label=y)\n",
    "  # print('For Month: ', y, \"   Values: \", ys[y])\n",
    "\n",
    "plt.legend()\n",
    "\n",
    "    \n",
    "# naming the x axis \n",
    "plt.xlabel('Months')\n",
    "\n",
    "# naming the y axis \n",
    "plt.ylabel('Temp in F') \n",
    "   \n",
    "# giving a title to my graph \n",
    "plt.title('Hottest & Coldest Months by Decade') \n",
    "    \n",
    "# function to show the plot \n",
    "plt.show() "
   ]
  }
 ],
 "metadata": {
  "kernelspec": {
   "display_name": "Python 3.9.7 ('base')",
   "language": "python",
   "name": "python3"
  },
  "language_info": {
   "codemirror_mode": {
    "name": "ipython",
    "version": 3
   },
   "file_extension": ".py",
   "mimetype": "text/x-python",
   "name": "python",
   "nbconvert_exporter": "python",
   "pygments_lexer": "ipython3",
   "version": "3.9.7"
  },
  "orig_nbformat": 4,
  "vscode": {
   "interpreter": {
    "hash": "40d3a090f54c6569ab1632332b64b2c03c39dcf918b08424e98f38b5ae0af88f"
   }
  }
 },
 "nbformat": 4,
 "nbformat_minor": 2
}
